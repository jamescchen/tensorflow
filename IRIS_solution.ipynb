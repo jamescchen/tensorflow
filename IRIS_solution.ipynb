{
 "cells": [
  {
   "cell_type": "code",
   "execution_count": 1,
   "metadata": {
    "collapsed": true
   },
   "outputs": [],
   "source": [
    "import tensorflow as tf\n",
    "from sklearn import datasets\n",
    "import numpy as np\n",
    "import pandas as pd"
   ]
  },
  {
   "cell_type": "code",
   "execution_count": 2,
   "metadata": {
    "collapsed": true
   },
   "outputs": [],
   "source": [
    "import numpy as np\n",
    "\n",
    "def convertToOneHot(vector, num_classes=None):\n",
    "    \"\"\"\n",
    "    Converts an input 1-D vector of integers into an output\n",
    "    2-D array of one-hot vectors, where an i'th input value\n",
    "    of j will set a '1' in the i'th row, j'th column of the\n",
    "    output array.\n",
    "\n",
    "    Example:\n",
    "        v = np.array((1, 0, 4))\n",
    "        one_hot_v = convertToOneHot(v)\n",
    "        print one_hot_v\n",
    "\n",
    "        [[0 1 0 0 0]\n",
    "         [1 0 0 0 0]\n",
    "         [0 0 0 0 1]]\n",
    "    \"\"\"\n",
    "\n",
    "    assert isinstance(vector, np.ndarray)\n",
    "    assert len(vector) > 0\n",
    "\n",
    "    if num_classes is None:\n",
    "        num_classes = np.max(vector)+1\n",
    "    else:\n",
    "        assert num_classes > 0\n",
    "        assert num_classes >= np.max(vector)\n",
    "\n",
    "    result = np.zeros(shape=(len(vector), num_classes))\n",
    "    result[np.arange(len(vector)), vector] = 1\n",
    "    return result.astype(int)\n"
   ]
  },
  {
   "cell_type": "code",
   "execution_count": 3,
   "metadata": {
    "collapsed": true
   },
   "outputs": [],
   "source": [
    "##data load\n",
    "iris = datasets.load_iris()\n",
    "\n",
    "##one hot\n",
    "onehotTarget = convertToOneHot(iris.target)\n",
    "\n",
    "## train set & test set\n",
    "df = pd.DataFrame(np.random.randn(150, 2))\n",
    "msk = np.random.rand(len(df)) < 0.8\n",
    "train_x = iris.data[msk]\n",
    "train_y = onehotTarget[msk]\n",
    "test_x = iris.data[~msk]\n",
    "test_y = onehotTarget[~msk]"
   ]
  },
  {
   "cell_type": "code",
   "execution_count": 5,
   "metadata": {
    "collapsed": false
   },
   "outputs": [],
   "source": [
    "##placeholder\n",
    "inp = tf.placeholder(tf.float32, [None, 4],name=\"inp\")\n",
    "y_ = tf.placeholder(tf.float32, [None, 3])\n",
    "\n",
    "##weights&bias\n",
    "weights = tf.Variable(tf.zeros([4, 3]))\n",
    "bias = tf.Variable(tf.zeros([3]))\n",
    "\n",
    "##neutral arichture\n",
    "y = tf.nn.softmax(tf.matmul(inp, weights) + bias)\n",
    "\n",
    "##loss function-cross entropy\n",
    "cross_entropy = -tf.reduce_sum(y_*tf.log(y))\n",
    "\n",
    "##optimzer\n",
    "train_step = tf.train.AdamOptimizer(0.01).minimize(cross_entropy)\n",
    "\n",
    "\n",
    "##accuracy\n",
    "correct_prediction = tf.equal(tf.argmax(y,1), tf.argmax(y_,1))\n",
    "accuracy = tf.reduce_mean(tf.cast(correct_prediction, \"float\"))\n",
    "\n",
    "init = tf.global_variables_initializer()\n",
    "\n",
    "sess = tf.Session()\n",
    "sess.run(init)"
   ]
  },
  {
   "cell_type": "code",
   "execution_count": 6,
   "metadata": {
    "collapsed": false
   },
   "outputs": [
    {
     "name": "stdout",
     "output_type": "stream",
     "text": [
      "Train Loss: 0.372727 Test Loss: 0.225\n",
      "Train Loss: 0.727273 Test Loss: 0.5\n",
      "Train Loss: 0.727273 Test Loss: 0.5\n",
      "Train Loss: 0.727273 Test Loss: 0.5\n",
      "Train Loss: 0.727273 Test Loss: 0.5\n",
      "Train Loss: 0.727273 Test Loss: 0.5\n",
      "Train Loss: 0.763636 Test Loss: 0.55\n",
      "Train Loss: 0.790909 Test Loss: 0.575\n",
      "Train Loss: 0.809091 Test Loss: 0.675\n",
      "Train Loss: 0.854545 Test Loss: 0.725\n",
      "Train Loss: 0.909091 Test Loss: 0.75\n",
      "Train Loss: 0.918182 Test Loss: 0.75\n",
      "Train Loss: 0.918182 Test Loss: 0.825\n",
      "Train Loss: 0.927273 Test Loss: 0.875\n",
      "Train Loss: 0.936364 Test Loss: 0.875\n",
      "Train Loss: 0.954545 Test Loss: 0.9\n",
      "Train Loss: 0.954545 Test Loss: 0.9\n",
      "Train Loss: 0.954545 Test Loss: 0.9\n",
      "Train Loss: 0.954545 Test Loss: 0.925\n",
      "Train Loss: 0.954545 Test Loss: 0.925\n",
      "Train Loss: 0.954545 Test Loss: 0.925\n",
      "Train Loss: 0.954545 Test Loss: 0.95\n",
      "Train Loss: 0.954545 Test Loss: 0.95\n",
      "Train Loss: 0.954545 Test Loss: 0.95\n",
      "Train Loss: 0.954545 Test Loss: 0.975\n",
      "Train Loss: 0.954545 Test Loss: 0.975\n",
      "Train Loss: 0.963636 Test Loss: 0.975\n",
      "Train Loss: 0.963636 Test Loss: 0.975\n",
      "Train Loss: 0.963636 Test Loss: 0.975\n",
      "Train Loss: 0.963636 Test Loss: 0.975\n"
     ]
    }
   ],
   "source": [
    "for i in range(300):\n",
    "    feed_train = {inp: train_x, \n",
    "                  y_: train_y}\n",
    "    feed_test = {inp:test_x, \n",
    "              y_: test_y}\n",
    "    \n",
    "    sess.run(train_step, \n",
    "             feed_dict=feed_train)\n",
    "    if i % 10 == 0:\n",
    "        \n",
    "        print(\"Train accuracy:\",sess.run(accuracy,feed_dict=feed_train),\n",
    "              \"Test accuracy:\",sess.run(accuracy,feed_dict=feed_test)\n",
    "             )\n",
    "        \n"
   ]
  }
 ],
 "metadata": {
  "kernelspec": {
   "display_name": "Python 3",
   "language": "python",
   "name": "python3"
  },
  "language_info": {
   "codemirror_mode": {
    "name": "ipython",
    "version": 3
   },
   "file_extension": ".py",
   "mimetype": "text/x-python",
   "name": "python",
   "nbconvert_exporter": "python",
   "pygments_lexer": "ipython3",
   "version": "3.6.0"
  }
 },
 "nbformat": 4,
 "nbformat_minor": 2
}
